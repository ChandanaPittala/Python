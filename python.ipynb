{
  "nbformat": 4,
  "nbformat_minor": 0,
  "metadata": {
    "colab": {
      "name": "Untitled0.ipynb",
      "provenance": [],
      "collapsed_sections": [],
      "authorship_tag": "ABX9TyO3UYweKDdpyqgZGTQhzQ38",
      "include_colab_link": true
    },
    "kernelspec": {
      "name": "python3",
      "display_name": "Python 3"
    },
    "language_info": {
      "name": "python"
    }
  },
  "cells": [
    {
      "cell_type": "markdown",
      "metadata": {
        "id": "view-in-github",
        "colab_type": "text"
      },
      "source": [
        "<a href=\"https://colab.research.google.com/github/ChandanaPittala/Python/blob/main/python.ipynb\" target=\"_parent\"><img src=\"https://colab.research.google.com/assets/colab-badge.svg\" alt=\"Open In Colab\"/></a>"
      ]
    },
    {
      "cell_type": "code",
      "execution_count": null,
      "metadata": {
        "colab": {
          "base_uri": "https://localhost:8080/"
        },
        "id": "5-uVKak4FbIR",
        "outputId": "d1284545-6cd5-4a3b-f5fd-af294a040c8c"
      },
      "outputs": [
        {
          "output_type": "execute_result",
          "data": {
            "text/plain": [
              "10"
            ]
          },
          "metadata": {},
          "execution_count": 5
        }
      ],
      "source": [
        "var1=10\n",
        "var"
      ]
    },
    {
      "cell_type": "code",
      "source": [
        "x='c'\n",
        "type(x)"
      ],
      "metadata": {
        "colab": {
          "base_uri": "https://localhost:8080/"
        },
        "id": "cTGkLvOVFpJj",
        "outputId": "139e513b-a03a-4401-df5b-b79e49d3495e"
      },
      "execution_count": null,
      "outputs": [
        {
          "output_type": "execute_result",
          "data": {
            "text/plain": [
              "str"
            ]
          },
          "metadata": {},
          "execution_count": 7
        }
      ]
    },
    {
      "cell_type": "code",
      "source": [
        "print(3+2)\n",
        "print(3-2)\n",
        "print(3*2)\n",
        "print(55/2)\n",
        "print(55//2)\n",
        "print(3%2)"
      ],
      "metadata": {
        "colab": {
          "base_uri": "https://localhost:8080/"
        },
        "id": "S6n3VYzpFpXC",
        "outputId": "f611fdb3-3c71-4398-9769-f4c537235ff9"
      },
      "execution_count": null,
      "outputs": [
        {
          "output_type": "stream",
          "name": "stdout",
          "text": [
            "5\n",
            "1\n",
            "6\n",
            "27.5\n",
            "27\n",
            "1\n"
          ]
        }
      ]
    },
    {
      "cell_type": "code",
      "source": [
        "x = 2\n",
        "if x > 2 :\n",
        "   print('Bigger than 2')\n",
        "print(\"Done with 2\")"
      ],
      "metadata": {
        "colab": {
          "base_uri": "https://localhost:8080/"
        },
        "id": "YFgWCS2BFpjk",
        "outputId": "888d683b-ab16-4706-d430-d66dfe565f7f"
      },
      "execution_count": null,
      "outputs": [
        {
          "output_type": "stream",
          "name": "stdout",
          "text": [
            "Done with 2\n"
          ]
        }
      ]
    },
    {
      "cell_type": "code",
      "source": [
        "x = 1\n",
        "if x > 2 :\n",
        "   print('Bigger than 2')\n",
        "elif x==2:\n",
        "   print('x is equal to 2')\n",
        "elif x==0:\n",
        "     print('er')\n",
        "else:\n",
        "   print('less than 2')"
      ],
      "metadata": {
        "colab": {
          "base_uri": "https://localhost:8080/"
        },
        "id": "s9ulvMYyFpyK",
        "outputId": "f46b5769-2a80-4f9d-9cdf-929ef3871ea7"
      },
      "execution_count": null,
      "outputs": [
        {
          "output_type": "stream",
          "name": "stdout",
          "text": [
            "less than 2\n"
          ]
        }
      ]
    },
    {
      "cell_type": "markdown",
      "source": [
        ""
      ],
      "metadata": {
        "id": "QaRE_hqjFqSc"
      }
    },
    {
      "cell_type": "code",
      "source": [
        "for i in range(1,5,2):\n",
        "  print(i)\n",
        "  if(i>2):\n",
        "    print(\"if in for loop\")"
      ],
      "metadata": {
        "colab": {
          "base_uri": "https://localhost:8080/"
        },
        "id": "96qZgTYrMkq_",
        "outputId": "152acfef-642b-4f18-a197-c5c3a465730c"
      },
      "execution_count": null,
      "outputs": [
        {
          "output_type": "stream",
          "name": "stdout",
          "text": [
            "1\n",
            "3\n",
            "if in for loop\n"
          ]
        }
      ]
    },
    {
      "cell_type": "code",
      "source": [
        "x=25\n",
        "y=21\n",
        "z=23\n",
        "if x>y and x>z:\n",
        "        print('{} {} is greater'.format((x),(y)))\n",
        "elif y>x and y>z:\n",
        "          print(f'{y} is greater')\n",
        "elif z>x and z>y:\n",
        "        print('z is greater',z,y)\n"
      ],
      "metadata": {
        "colab": {
          "base_uri": "https://localhost:8080/"
        },
        "id": "uSrhQ1vDFrAO",
        "outputId": "6f569ae0-761c-4e05-8d62-0a36c495712b"
      },
      "execution_count": null,
      "outputs": [
        {
          "output_type": "stream",
          "name": "stdout",
          "text": [
            "25 21 is greater\n"
          ]
        }
      ]
    },
    {
      "cell_type": "code",
      "source": [
        "c+ ' '+ 'hi'\n",
        "c+str(2)\n",
        "y='2'\n",
        "type(y)\n",
        "y=int(y)\n",
        "type(y)\n",
        "y-float(y)\n",
        "type(y)"
      ],
      "metadata": {
        "colab": {
          "base_uri": "https://localhost:8080/"
        },
        "id": "BmdDIyTsU6qr",
        "outputId": "1c060510-c40a-4ecc-dcfb-ecb00b3fdb6d"
      },
      "execution_count": null,
      "outputs": [
        {
          "output_type": "execute_result",
          "data": {
            "text/plain": [
              "int"
            ]
          },
          "metadata": {},
          "execution_count": 75
        }
      ]
    },
    {
      "cell_type": "code",
      "source": [
        "len(c)"
      ],
      "metadata": {
        "colab": {
          "base_uri": "https://localhost:8080/"
        },
        "id": "URJv7xtTWU1z",
        "outputId": "eca45e76-fad4-48d2-c29e-deb2fd711c57"
      },
      "execution_count": null,
      "outputs": [
        {
          "output_type": "execute_result",
          "data": {
            "text/plain": [
              "21"
            ]
          },
          "metadata": {},
          "execution_count": 76
        }
      ]
    },
    {
      "cell_type": "code",
      "source": [
        "c=\"chandana is good girl\"\n",
        "c[-1]\n",
        "c[0:8]\n",
        "c[-4:]\n",
        "c[1:8:2]\n",
        "c[::-1]\n",
        "c.find('i')\n",
        "c.replace('i','c')\n",
        "c.replace('is','has')\n",
        "c\n",
        "c1=c.replace('is','has')\n",
        "c1\n",
        "c\n",
        "c.find('z')"
      ],
      "metadata": {
        "colab": {
          "base_uri": "https://localhost:8080/"
        },
        "id": "mn1-qQdFRGJ7",
        "outputId": "f5124370-9e09-480c-8202-7bdd43577734"
      },
      "execution_count": null,
      "outputs": [
        {
          "output_type": "execute_result",
          "data": {
            "text/plain": [
              "-1"
            ]
          },
          "metadata": {},
          "execution_count": 91
        }
      ]
    },
    {
      "cell_type": "code",
      "source": [
        "list1=[1,2.3,'d','hai',True]\n",
        "list1\n",
        "list1.append([1,2,3])\n",
        "list1\n",
        "list1.extend([1,2,3])\n",
        "list1\n",
        "list2=[1,2]\n",
        "list1.append(list2)\n",
        "list1\n",
        "list1.append(400)\n",
        "list1\n",
        "\n"
      ],
      "metadata": {
        "colab": {
          "base_uri": "https://localhost:8080/"
        },
        "id": "mu4oNLJbchsG",
        "outputId": "f5a88174-ec10-4bba-9f71-99efb972eaf1"
      },
      "execution_count": null,
      "outputs": [
        {
          "output_type": "execute_result",
          "data": {
            "text/plain": [
              "[1, 2.3, 'd', 'hai', True, [1, 2, 3], 1, 2, 3, [1, 2], 400]"
            ]
          },
          "metadata": {},
          "execution_count": 100
        }
      ]
    },
    {
      "cell_type": "code",
      "source": [
        "new = []\n",
        "for i in [1,2,3,4,5]:\n",
        "  new.append(i**2)\n",
        "new"
      ],
      "metadata": {
        "colab": {
          "base_uri": "https://localhost:8080/"
        },
        "id": "ntT5sCaud_YR",
        "outputId": "2e4952fb-4559-48ab-ef79-ce2b3d6c6bd7"
      },
      "execution_count": null,
      "outputs": [
        {
          "output_type": "execute_result",
          "data": {
            "text/plain": [
              "[1, 4, 9, 16, 25]"
            ]
          },
          "metadata": {},
          "execution_count": 101
        }
      ]
    },
    {
      "cell_type": "code",
      "source": [
        "li1 = [1,2,3,4,5,6,True,'age']\n",
        "li1.reverse()\n"
      ],
      "metadata": {
        "id": "lrVbasMIeEGR"
      },
      "execution_count": null,
      "outputs": []
    },
    {
      "cell_type": "code",
      "source": [
        "sports = ['cricket', 'football', 'volleyball', 'baseball', 'softball', 'track and field', 'curling', 'ping pong', 'hockey']\n",
        "sports\n",
        "sports.insert(2,'horseback riding')\n",
        "sports"
      ],
      "metadata": {
        "colab": {
          "base_uri": "https://localhost:8080/"
        },
        "id": "r9h_CZ4CeO0R",
        "outputId": "38f45412-ac6c-4c98-ff57-9f4b9dd3e5aa"
      },
      "execution_count": null,
      "outputs": [
        {
          "output_type": "execute_result",
          "data": {
            "text/plain": [
              "['cricket',\n",
              " 'football',\n",
              " 'horseback riding',\n",
              " 'volleyball',\n",
              " 'baseball',\n",
              " 'softball',\n",
              " 'track and field',\n",
              " 'curling',\n",
              " 'ping pong',\n",
              " 'hockey']"
            ]
          },
          "metadata": {},
          "execution_count": 106
        }
      ]
    },
    {
      "cell_type": "code",
      "source": [
        "trav_dest = ['Beirut', 'Milan', 'Pittsburgh', 'Buenos Aires', 'Nairobi', 'Kathmandu', 'Osaka', 'London', 'Melbourne']\n",
        "trav_dest.pop(7)\n",
        "trav_dest\n",
        "trav_dest.remove('Melbourne')\n",
        "trav_dest"
      ],
      "metadata": {
        "colab": {
          "base_uri": "https://localhost:8080/"
        },
        "id": "E73-vAJveO21",
        "outputId": "1a6d9799-e705-4cbf-d73e-4d9256e2ae62"
      },
      "execution_count": null,
      "outputs": [
        {
          "output_type": "execute_result",
          "data": {
            "text/plain": [
              "['Beirut',\n",
              " 'Milan',\n",
              " 'Pittsburgh',\n",
              " 'Buenos Aires',\n",
              " 'Nairobi',\n",
              " 'Kathmandu',\n",
              " 'Osaka']"
            ]
          },
          "metadata": {},
          "execution_count": 116
        }
      ]
    },
    {
      "cell_type": "code",
      "source": [
        ""
      ],
      "metadata": {
        "id": "Rpu3BySrftkn"
      },
      "execution_count": null,
      "outputs": []
    },
    {
      "cell_type": "code",
      "source": [
        ""
      ],
      "metadata": {
        "id": "YGH6lem_ftnK"
      },
      "execution_count": null,
      "outputs": []
    },
    {
      "cell_type": "code",
      "source": [
        "tup = (1,2,3,'hi')\n",
        "tup"
      ],
      "metadata": {
        "colab": {
          "base_uri": "https://localhost:8080/"
        },
        "id": "2-rF68WheO4m",
        "outputId": "4e113f6a-6e76-4418-d386-cba2c784b395"
      },
      "execution_count": null,
      "outputs": [
        {
          "output_type": "execute_result",
          "data": {
            "text/plain": [
              "(1, 2, 3, 'hi')"
            ]
          },
          "metadata": {},
          "execution_count": 114
        }
      ]
    },
    {
      "cell_type": "code",
      "source": [
        "x = ('Glenn', 'Sally', 'Joseph')\n",
        "print(x[2])"
      ],
      "metadata": {
        "colab": {
          "base_uri": "https://localhost:8080/"
        },
        "id": "N9YsbFl-eO6o",
        "outputId": "df23d7bb-56b5-4242-b56e-f7fecb440e81"
      },
      "execution_count": null,
      "outputs": [
        {
          "output_type": "stream",
          "name": "stdout",
          "text": [
            "Joseph\n"
          ]
        }
      ]
    },
    {
      "cell_type": "code",
      "source": [
        "tup[0] = 10\n"
      ],
      "metadata": {
        "colab": {
          "base_uri": "https://localhost:8080/",
          "height": 166
        },
        "id": "OHToUvIgeO8p",
        "outputId": "cf0a9d73-6585-42fa-c2f9-2ec2c3157b3d"
      },
      "execution_count": null,
      "outputs": [
        {
          "output_type": "error",
          "ename": "TypeError",
          "evalue": "ignored",
          "traceback": [
            "\u001b[0;31m---------------------------------------------------------------------------\u001b[0m",
            "\u001b[0;31mTypeError\u001b[0m                                 Traceback (most recent call last)",
            "\u001b[0;32m<ipython-input-117-6721ba2e65ef>\u001b[0m in \u001b[0;36m<module>\u001b[0;34m()\u001b[0m\n\u001b[0;32m----> 1\u001b[0;31m \u001b[0mtup\u001b[0m\u001b[0;34m[\u001b[0m\u001b[0;36m0\u001b[0m\u001b[0;34m]\u001b[0m \u001b[0;34m=\u001b[0m \u001b[0;36m10\u001b[0m\u001b[0;34m\u001b[0m\u001b[0;34m\u001b[0m\u001b[0m\n\u001b[0m",
            "\u001b[0;31mTypeError\u001b[0m: 'tuple' object does not support item assignment"
          ]
        }
      ]
    },
    {
      "cell_type": "code",
      "source": [
        "purse = dict()\n",
        "purse['money'] = 12\n",
        "purse['candy'] = 3\n",
        "purse['tissues'] = 75\n",
        "purse\n",
        "purse = {}\n",
        "purse['money'] = 12\n",
        "purse['candy'] = 3\n",
        "purse['tissues'] = 75\n",
        "purse\n",
        "purse1 ={'name':'john','age':23}\n",
        "purse1\n",
        "purse.keys()\n",
        "purse.values()\n",
        "purse.items()\n",
        "purse.get('candy')\n",
        "purse.get('notprest')\n"
      ],
      "metadata": {
        "id": "3oE7ijhIeO_C"
      },
      "execution_count": null,
      "outputs": []
    },
    {
      "cell_type": "code",
      "source": [
        "def add(a,b):\n",
        "  return a+b"
      ],
      "metadata": {
        "id": "kWM6U5MVj9m7"
      },
      "execution_count": null,
      "outputs": []
    },
    {
      "cell_type": "code",
      "source": [
        "add(10,20)"
      ],
      "metadata": {
        "colab": {
          "base_uri": "https://localhost:8080/"
        },
        "id": "C8NlT6p7kCyp",
        "outputId": "8bb7347c-4495-466d-c89a-9d22f898fd89"
      },
      "execution_count": null,
      "outputs": [
        {
          "output_type": "execute_result",
          "data": {
            "text/plain": [
              "30"
            ]
          },
          "metadata": {},
          "execution_count": 141
        }
      ]
    },
    {
      "cell_type": "code",
      "source": [
        "x = lambda a,b: a+b\n",
        "x(10,20)"
      ],
      "metadata": {
        "colab": {
          "base_uri": "https://localhost:8080/"
        },
        "id": "gGf6UszjkeQF",
        "outputId": "e049caad-fcc3-4909-cf82-e3ec0a36570d"
      },
      "execution_count": null,
      "outputs": [
        {
          "output_type": "execute_result",
          "data": {
            "text/plain": [
              "30"
            ]
          },
          "metadata": {},
          "execution_count": 142
        }
      ]
    },
    {
      "cell_type": "code",
      "source": [
        "\n",
        "def evenodd(b):\n",
        "    if (b%2 == 0):\n",
        "        print('no is even')\n",
        "    else:\n",
        "        print('no is odd')\n",
        "    \n",
        " "
      ],
      "metadata": {
        "id": "R2uu-OuwePCR"
      },
      "execution_count": null,
      "outputs": []
    },
    {
      "cell_type": "code",
      "source": [
        "evenodd(2)"
      ],
      "metadata": {
        "id": "IUaG2fVRjVVS"
      },
      "execution_count": null,
      "outputs": []
    },
    {
      "cell_type": "code",
      "source": [
        "nums = [2, 4, 6, 8, 10]\n",
        "result = map(lambda a: a ** 2, nums)\n",
        "print(result)\n",
        "print(list(result))"
      ],
      "metadata": {
        "colab": {
          "base_uri": "https://localhost:8080/"
        },
        "id": "PXnRo5y-kjBg",
        "outputId": "e85a37b5-ad0f-4032-916a-d1a34edb6f0e"
      },
      "execution_count": null,
      "outputs": [
        {
          "output_type": "stream",
          "name": "stdout",
          "text": [
            "<map object at 0x7f4f11876c10>\n",
            "[4, 16, 36, 64, 100]\n"
          ]
        }
      ]
    },
    {
      "cell_type": "code",
      "source": [
        "#list comprehension\n",
        "res = [i**2 for i in nums]\n",
        "res"
      ],
      "metadata": {
        "colab": {
          "base_uri": "https://localhost:8080/"
        },
        "id": "T8dHKznVkjQF",
        "outputId": "e4a9ce36-f69d-4ac3-d8c8-9e60a92fe058"
      },
      "execution_count": null,
      "outputs": [
        {
          "output_type": "execute_result",
          "data": {
            "text/plain": [
              "[4, 16, 36, 64, 100]"
            ]
          },
          "metadata": {},
          "execution_count": 144
        }
      ]
    },
    {
      "cell_type": "code",
      "source": [
        "Cities = ['Delhi', 'Pune', 'Chennai', 'Kolkata']\n",
        "result = filter(lambda m: len(m) > 6, Cities)\n",
        "list(result)"
      ],
      "metadata": {
        "colab": {
          "base_uri": "https://localhost:8080/"
        },
        "id": "TDzLVN8nkjUu",
        "outputId": "0e545614-25fd-434c-d399-b2f17cb65604"
      },
      "execution_count": null,
      "outputs": [
        {
          "output_type": "execute_result",
          "data": {
            "text/plain": [
              "['Chennai', 'Kolkata']"
            ]
          },
          "metadata": {},
          "execution_count": 145
        }
      ]
    },
    {
      "cell_type": "code",
      "source": [
        "a = \"hai\"\n",
        "try : \n",
        "  var1 = int(a)\n",
        "except:\n",
        "  var1 = -1\n",
        "  print(f\"it is not a number.so o/p is {var1}\")"
      ],
      "metadata": {
        "colab": {
          "base_uri": "https://localhost:8080/"
        },
        "id": "oFUvkjMSkjXv",
        "outputId": "2ed37aa6-c634-4e6c-ad4a-932aad274a0b"
      },
      "execution_count": null,
      "outputs": [
        {
          "output_type": "stream",
          "name": "stdout",
          "text": [
            "it is not a number.so o/p is -1\n"
          ]
        }
      ]
    },
    {
      "cell_type": "code",
      "source": [
        "a = 2.5\n",
        "try : \n",
        "  var1 = int(a)\n",
        "  print(var1)\n",
        "except:\n",
        "  var1 = -1\n",
        "  print(f\"it is not a number.so o/p is {var1}\")"
      ],
      "metadata": {
        "colab": {
          "base_uri": "https://localhost:8080/"
        },
        "id": "ave4_JHekjah",
        "outputId": "7df4044c-3356-4164-faec-bae24c9177d3"
      },
      "execution_count": null,
      "outputs": [
        {
          "output_type": "stream",
          "name": "stdout",
          "text": [
            "2\n"
          ]
        }
      ]
    },
    {
      "cell_type": "code",
      "source": [
        "#classes\n",
        "class square:\n",
        "  def __init__(self,side):\n",
        "    self.side = side\n",
        "  def area(self):\n",
        "    return self.side * self.side"
      ],
      "metadata": {
        "id": "WAJGnISmkjdK"
      },
      "execution_count": null,
      "outputs": []
    },
    {
      "cell_type": "code",
      "source": [
        "name = square(10)\n",
        "name.area()\n",
        "name.side"
      ],
      "metadata": {
        "colab": {
          "base_uri": "https://localhost:8080/"
        },
        "id": "us7Xa8G-kjf8",
        "outputId": "1105db7e-4eee-42be-e710-859d6ba9356a"
      },
      "execution_count": null,
      "outputs": [
        {
          "output_type": "execute_result",
          "data": {
            "text/plain": [
              "10"
            ]
          },
          "metadata": {},
          "execution_count": 157
        }
      ]
    },
    {
      "cell_type": "code",
      "source": [
        "# open and read text file.\n",
        "file1 = open('file.txt','r')\n",
        "contents = file1.read()\n",
        "print(contents)\n",
        "file1.close()"
      ],
      "metadata": {
        "colab": {
          "base_uri": "https://localhost:8080/"
        },
        "id": "QgdmV520kjil",
        "outputId": "050350aa-34ef-45bb-b781-9cacbe4cc42d"
      },
      "execution_count": null,
      "outputs": [
        {
          "output_type": "stream",
          "name": "stdout",
          "text": [
            "hello world\n"
          ]
        }
      ]
    },
    {
      "cell_type": "code",
      "source": [
        ""
      ],
      "metadata": {
        "id": "yQV_v8Cakjlm"
      },
      "execution_count": null,
      "outputs": []
    }
  ]
}